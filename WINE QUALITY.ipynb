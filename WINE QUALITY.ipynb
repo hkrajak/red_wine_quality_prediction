{
  "cells":[
    {
      "cell_type":"code",
      "source":[
        "%matplotlib inline\n",
        "\n",
        "import time, datetime\n",
        "\n",
        "#Data Manipulation\n",
        "import pandas as pd\n",
        "import numpy as np\n",
        "import plotly.express as px\n",
        "from pandas.plotting import scatter_matrix\n",
        "\n",
        "#Data Visualization\n",
        "import matplotlib.pyplot as plt\n",
        "import seaborn as sns\n",
        "plt.style.use('seaborn-whitegrid')\n",
        "\n",
        "#Machine Learning \n",
        "from sklearn.model_selection import train_test_split,cross_val_score\n",
        "from sklearn.metrics import confusion_matrix,accuracy_score, f1_score, roc_auc_score\n",
        "from sklearn.svm import SVC\n",
        "from sklearn.tree import DecisionTreeClassifier\n",
        "from sklearn.tree import export_graphviz \n",
        "from IPython.display import Image  \n",
        "#import graphviz\n",
        "from sklearn import metrics\n",
        "from sklearn import model_selection\n",
        "#from mlxtend.classifier import StackingClassifier\n",
        "from sklearn.ensemble import RandomForestClassifier\n",
        "from sklearn.ensemble import AdaBoostClassifier\n",
        "from sklearn.ensemble import BaggingClassifier\n",
        "from sklearn.ensemble import GradientBoostingClassifier\n",
        "from sklearn.naive_bayes import GaussianNB\n",
        "from sklearn.neighbors import KNeighborsClassifier\n",
        "from sklearn.preprocessing import LabelEncoder\n",
        "from sklearn.linear_model import LogisticRegression\n",
        "from sklearn.preprocessing import StandardScaler\n",
        "from catboost import Pool, CatBoostClassifier, cv\n",
        "from sklearn.metrics import precision_score, recall_score\n",
        "\n",
        "#ignore warning \n",
        "import  warnings\n",
        "warnings.filterwarnings('ignore')"
      ],
      "execution_count":1,
      "outputs":[
        
      ],
      "metadata":{
        
      }
    },
    {
      "cell_type":"markdown",
      "source":[
        "## LOAD DATA"
      ],
      "metadata":{
        
      }
    },
    {
      "cell_type":"code",
      "source":[
        "wine_data = pd.read_csv('winequality-red.csv', sep=';')"
      ],
      "execution_count":2,
      "outputs":[
        
      ],
      "metadata":{
        
      }
    },
    {
      "cell_type":"code",
      "source":[
        "wine_data.head(10)"
      ],
      "execution_count":3,
      "outputs":[
        {
          "data":{
            "text\/html":[
              "<div>\n",
              "<style scoped>\n",
              "    .dataframe tbody tr th:only-of-type {\n",
              "        vertical-align: middle;\n",
              "    }\n",
              "\n",
              "    .dataframe tbody tr th {\n",
              "        vertical-align: top;\n",
              "    }\n",
              "\n",
              "    .dataframe thead th {\n",
              "        text-align: right;\n",
              "    }\n",
              "<\/style>\n",
              "<table border=\"1\" class=\"dataframe\">\n",
              "  <thead>\n",
              "    <tr style=\"text-align: right;\">\n",
              "      <th><\/th>\n",
              "      <th>fixed acidity<\/th>\n",
              "      <th>volatile acidity<\/th>\n",
              "      <th>citric acid<\/th>\n",
              "      <th>residual sugar<\/th>\n",
              "      <th>chlorides<\/th>\n",
              "      <th>free sulfur dioxide<\/th>\n",
              "      <th>total sulfur dioxide<\/th>\n",
              "      <th>density<\/th>\n",
              "      <th>pH<\/th>\n",
              "      <th>sulphates<\/th>\n",
              "      <th>alcohol<\/th>\n",
              "      <th>quality<\/th>\n",
              "    <\/tr>\n",
              "  <\/thead>\n",
              "  <tbody>\n",
              "    <tr>\n",
              "      <th>0<\/th>\n",
              "      <td>7.4<\/td>\n",
              "      <td>0.70<\/td>\n",
              "      <td>0.00<\/td>\n",
              "      <td>1.9<\/td>\n",
              "      <td>0.076<\/td>\n",
              "      <td>11.0<\/td>\n",
              "      <td>34.0<\/td>\n",
              "      <td>0.9978<\/td>\n",
              "      <td>3.51<\/td>\n",
              "      <td>0.56<\/td>\n",
              "      <td>9.4<\/td>\n",
              "      <td>5<\/td>\n",
              "    <\/tr>\n",
              "    <tr>\n",
              "      <th>1<\/th>\n",
              "      <td>7.8<\/td>\n",
              "      <td>0.88<\/td>\n",
              "      <td>0.00<\/td>\n",
              "      <td>2.6<\/td>\n",
              "      <td>0.098<\/td>\n",
              "      <td>25.0<\/td>\n",
              "      <td>67.0<\/td>\n",
              "      <td>0.9968<\/td>\n",
              "      <td>3.20<\/td>\n",
              "      <td>0.68<\/td>\n",
              "      <td>9.8<\/td>\n",
              "      <td>5<\/td>\n",
              "    <\/tr>\n",
              "    <tr>\n",
              "      <th>2<\/th>\n",
              "      <td>7.8<\/td>\n",
              "      <td>0.76<\/td>\n",
              "      <td>0.04<\/td>\n",
              "      <td>2.3<\/td>\n",
              "      <td>0.092<\/td>\n",
              "      <td>15.0<\/td>\n",
              "      <td>54.0<\/td>\n",
              "      <td>0.9970<\/td>\n",
              "      <td>3.26<\/td>\n",
              "      <td>0.65<\/td>\n",
              "      <td>9.8<\/td>\n",
              "      <td>5<\/td>\n",
              "    <\/tr>\n",
              "    <tr>\n",
              "      <th>3<\/th>\n",
              "      <td>11.2<\/td>\n",
              "      <td>0.28<\/td>\n",
              "      <td>0.56<\/td>\n",
              "      <td>1.9<\/td>\n",
              "      <td>0.075<\/td>\n",
              "      <td>17.0<\/td>\n",
              "      <td>60.0<\/td>\n",
              "      <td>0.9980<\/td>\n",
              "      <td>3.16<\/td>\n",
              "      <td>0.58<\/td>\n",
              "      <td>9.8<\/td>\n",
              "      <td>6<\/td>\n",
              "    <\/tr>\n",
              "    <tr>\n",
              "      <th>4<\/th>\n",
              "      <td>7.4<\/td>\n",
              "      <td>0.70<\/td>\n",
              "      <td>0.00<\/td>\n",
              "      <td>1.9<\/td>\n",
              "      <td>0.076<\/td>\n",
              "      <td>11.0<\/td>\n",
              "      <td>34.0<\/td>\n",
              "      <td>0.9978<\/td>\n",
              "      <td>3.51<\/td>\n",
              "      <td>0.56<\/td>\n",
              "      <td>9.4<\/td>\n",
              "      <td>5<\/td>\n",
              "    <\/tr>\n",
              "    <tr>\n",
              "      <th>5<\/th>\n",
              "      <td>7.4<\/td>\n",
              "      <td>0.66<\/td>\n",
              "      <td>0.00<\/td>\n",
              "      <td>1.8<\/td>\n",
              "      <td>0.075<\/td>\n",
              "      <td>13.0<\/td>\n",
              "      <td>40.0<\/td>\n",
              "      <td>0.9978<\/td>\n",
              "      <td>3.51<\/td>\n",
              "      <td>0.56<\/td>\n",
              "      <td>9.4<\/td>\n",
              "      <td>5<\/td>\n",
              "    <\/tr>\n",
              "    <tr>\n",
              "      <th>6<\/th>\n",
              "      <td>7.9<\/td>\n",
              "      <td>0.60<\/td>\n",
              "      <td>0.06<\/td>\n",
              "      <td>1.6<\/td>\n",
              "      <td>0.069<\/td>\n",
              "      <td>15.0<\/td>\n",
              "      <td>59.0<\/td>\n",
              "      <td>0.9964<\/td>\n",
              "      <td>3.30<\/td>\n",
              "      <td>0.46<\/td>\n",
              "      <td>9.4<\/td>\n",
              "      <td>5<\/td>\n",
              "    <\/tr>\n",
              "    <tr>\n",
              "      <th>7<\/th>\n",
              "      <td>7.3<\/td>\n",
              "      <td>0.65<\/td>\n",
              "      <td>0.00<\/td>\n",
              "      <td>1.2<\/td>\n",
              "      <td>0.065<\/td>\n",
              "      <td>15.0<\/td>\n",
              "      <td>21.0<\/td>\n",
              "      <td>0.9946<\/td>\n",
              "      <td>3.39<\/td>\n",
              "      <td>0.47<\/td>\n",
              "      <td>10.0<\/td>\n",
              "      <td>7<\/td>\n",
              "    <\/tr>\n",
              "    <tr>\n",
              "      <th>8<\/th>\n",
              "      <td>7.8<\/td>\n",
              "      <td>0.58<\/td>\n",
              "      <td>0.02<\/td>\n",
              "      <td>2.0<\/td>\n",
              "      <td>0.073<\/td>\n",
              "      <td>9.0<\/td>\n",
              "      <td>18.0<\/td>\n",
              "      <td>0.9968<\/td>\n",
              "      <td>3.36<\/td>\n",
              "      <td>0.57<\/td>\n",
              "      <td>9.5<\/td>\n",
              "      <td>7<\/td>\n",
              "    <\/tr>\n",
              "    <tr>\n",
              "      <th>9<\/th>\n",
              "      <td>7.5<\/td>\n",
              "      <td>0.50<\/td>\n",
              "      <td>0.36<\/td>\n",
              "      <td>6.1<\/td>\n",
              "      <td>0.071<\/td>\n",
              "      <td>17.0<\/td>\n",
              "      <td>102.0<\/td>\n",
              "      <td>0.9978<\/td>\n",
              "      <td>3.35<\/td>\n",
              "      <td>0.80<\/td>\n",
              "      <td>10.5<\/td>\n",
              "      <td>5<\/td>\n",
              "    <\/tr>\n",
              "  <\/tbody>\n",
              "<\/table>\n",
              "<\/div>"
            ]
          },
          "metadata":{
            
          },
          "output_type":"display_data"
        }
      ],
      "metadata":{
        
      }
    },
    {
      "cell_type":"code",
      "source":[
        "wine_data.info()"
      ],
      "execution_count":4,
      "outputs":[
        {
          "name":"stdout",
          "text":[
            "<class 'pandas.core.frame.DataFrame'>\n",
            "RangeIndex: 1599 entries, 0 to 1598\n",
            "Data columns (total 12 columns):\n",
            " #   Column                Non-Null Count  Dtype  \n",
            "---  ------                --------------  -----  \n",
            " 0   fixed acidity         1599 non-null   float64\n",
            " 1   volatile acidity      1599 non-null   float64\n",
            " 2   citric acid           1599 non-null   float64\n",
            " 3   residual sugar        1599 non-null   float64\n",
            " 4   chlorides             1599 non-null   float64\n",
            " 5   free sulfur dioxide   1599 non-null   float64\n",
            " 6   total sulfur dioxide  1599 non-null   float64\n",
            " 7   density               1599 non-null   float64\n",
            " 8   pH                    1599 non-null   float64\n",
            " 9   sulphates             1599 non-null   float64\n",
            " 10  alcohol               1599 non-null   float64\n",
            " 11  quality               1599 non-null   int64  \n",
            "dtypes: float64(11), int64(1)\n",
            "memory usage: 150.0 KB\n"
          ],
          "output_type":"stream"
        }
      ],
      "metadata":{
        
      }
    },
    {
      "cell_type":"code",
      "source":[
        "wine_data.describe()"
      ],
      "execution_count":5,
      "outputs":[
        {
          "data":{
            "text\/html":[
              "<div>\n",
              "<style scoped>\n",
              "    .dataframe tbody tr th:only-of-type {\n",
              "        vertical-align: middle;\n",
              "    }\n",
              "\n",
              "    .dataframe tbody tr th {\n",
              "        vertical-align: top;\n",
              "    }\n",
              "\n",
              "    .dataframe thead th {\n",
              "        text-align: right;\n",
              "    }\n",
              "<\/style>\n",
              "<table border=\"1\" class=\"dataframe\">\n",
              "  <thead>\n",
              "    <tr style=\"text-align: right;\">\n",
              "      <th><\/th>\n",
              "      <th>fixed acidity<\/th>\n",
              "      <th>volatile acidity<\/th>\n",
              "      <th>citric acid<\/th>\n",
              "      <th>residual sugar<\/th>\n",
              "      <th>chlorides<\/th>\n",
              "      <th>free sulfur dioxide<\/th>\n",
              "      <th>total sulfur dioxide<\/th>\n",
              "      <th>density<\/th>\n",
              "      <th>pH<\/th>\n",
              "      <th>sulphates<\/th>\n",
              "      <th>alcohol<\/th>\n",
              "      <th>quality<\/th>\n",
              "    <\/tr>\n",
              "  <\/thead>\n",
              "  <tbody>\n",
              "    <tr>\n",
              "      <th>count<\/th>\n",
              "      <td>1599.000000<\/td>\n",
              "      <td>1599.000000<\/td>\n",
              "      <td>1599.000000<\/td>\n",
              "      <td>1599.000000<\/td>\n",
              "      <td>1599.000000<\/td>\n",
              "      <td>1599.000000<\/td>\n",
              "      <td>1599.000000<\/td>\n",
              "      <td>1599.000000<\/td>\n",
              "      <td>1599.000000<\/td>\n",
              "      <td>1599.000000<\/td>\n",
              "      <td>1599.000000<\/td>\n",
              "      <td>1599.000000<\/td>\n",
              "    <\/tr>\n",
              "    <tr>\n",
              "      <th>mean<\/th>\n",
              "      <td>8.319637<\/td>\n",
              "      <td>0.527821<\/td>\n",
              "      <td>0.270976<\/td>\n",
              "      <td>2.538806<\/td>\n",
              "      <td>0.087467<\/td>\n",
              "      <td>15.874922<\/td>\n",
              "      <td>46.467792<\/td>\n",
              "      <td>0.996747<\/td>\n",
              "      <td>3.311113<\/td>\n",
              "      <td>0.658149<\/td>\n",
              "      <td>10.422983<\/td>\n",
              "      <td>5.636023<\/td>\n",
              "    <\/tr>\n",
              "    <tr>\n",
              "      <th>std<\/th>\n",
              "      <td>1.741096<\/td>\n",
              "      <td>0.179060<\/td>\n",
              "      <td>0.194801<\/td>\n",
              "      <td>1.409928<\/td>\n",
              "      <td>0.047065<\/td>\n",
              "      <td>10.460157<\/td>\n",
              "      <td>32.895324<\/td>\n",
              "      <td>0.001887<\/td>\n",
              "      <td>0.154386<\/td>\n",
              "      <td>0.169507<\/td>\n",
              "      <td>1.065668<\/td>\n",
              "      <td>0.807569<\/td>\n",
              "    <\/tr>\n",
              "    <tr>\n",
              "      <th>min<\/th>\n",
              "      <td>4.600000<\/td>\n",
              "      <td>0.120000<\/td>\n",
              "      <td>0.000000<\/td>\n",
              "      <td>0.900000<\/td>\n",
              "      <td>0.012000<\/td>\n",
              "      <td>1.000000<\/td>\n",
              "      <td>6.000000<\/td>\n",
              "      <td>0.990070<\/td>\n",
              "      <td>2.740000<\/td>\n",
              "      <td>0.330000<\/td>\n",
              "      <td>8.400000<\/td>\n",
              "      <td>3.000000<\/td>\n",
              "    <\/tr>\n",
              "    <tr>\n",
              "      <th>25%<\/th>\n",
              "      <td>7.100000<\/td>\n",
              "      <td>0.390000<\/td>\n",
              "      <td>0.090000<\/td>\n",
              "      <td>1.900000<\/td>\n",
              "      <td>0.070000<\/td>\n",
              "      <td>7.000000<\/td>\n",
              "      <td>22.000000<\/td>\n",
              "      <td>0.995600<\/td>\n",
              "      <td>3.210000<\/td>\n",
              "      <td>0.550000<\/td>\n",
              "      <td>9.500000<\/td>\n",
              "      <td>5.000000<\/td>\n",
              "    <\/tr>\n",
              "    <tr>\n",
              "      <th>50%<\/th>\n",
              "      <td>7.900000<\/td>\n",
              "      <td>0.520000<\/td>\n",
              "      <td>0.260000<\/td>\n",
              "      <td>2.200000<\/td>\n",
              "      <td>0.079000<\/td>\n",
              "      <td>14.000000<\/td>\n",
              "      <td>38.000000<\/td>\n",
              "      <td>0.996750<\/td>\n",
              "      <td>3.310000<\/td>\n",
              "      <td>0.620000<\/td>\n",
              "      <td>10.200000<\/td>\n",
              "      <td>6.000000<\/td>\n",
              "    <\/tr>\n",
              "    <tr>\n",
              "      <th>75%<\/th>\n",
              "      <td>9.200000<\/td>\n",
              "      <td>0.640000<\/td>\n",
              "      <td>0.420000<\/td>\n",
              "      <td>2.600000<\/td>\n",
              "      <td>0.090000<\/td>\n",
              "      <td>21.000000<\/td>\n",
              "      <td>62.000000<\/td>\n",
              "      <td>0.997835<\/td>\n",
              "      <td>3.400000<\/td>\n",
              "      <td>0.730000<\/td>\n",
              "      <td>11.100000<\/td>\n",
              "      <td>6.000000<\/td>\n",
              "    <\/tr>\n",
              "    <tr>\n",
              "      <th>max<\/th>\n",
              "      <td>15.900000<\/td>\n",
              "      <td>1.580000<\/td>\n",
              "      <td>1.000000<\/td>\n",
              "      <td>15.500000<\/td>\n",
              "      <td>0.611000<\/td>\n",
              "      <td>72.000000<\/td>\n",
              "      <td>289.000000<\/td>\n",
              "      <td>1.003690<\/td>\n",
              "      <td>4.010000<\/td>\n",
              "      <td>2.000000<\/td>\n",
              "      <td>14.900000<\/td>\n",
              "      <td>8.000000<\/td>\n",
              "    <\/tr>\n",
              "  <\/tbody>\n",
              "<\/table>\n",
              "<\/div>"
            ]
          },
          "metadata":{
            
          },
          "output_type":"display_data"
        }
      ],
      "metadata":{
        
      }
    },
    {
      "cell_type":"code",
      "source":[
        "wine_data.isnull().sum()"
      ],
      "execution_count":6,
      "outputs":[
        {
          "data":{
            "text\/plain":[
              "fixed acidity           0\n",
              "volatile acidity        0\n",
              "citric acid             0\n",
              "residual sugar          0\n",
              "chlorides               0\n",
              "free sulfur dioxide     0\n",
              "total sulfur dioxide    0\n",
              "density                 0\n",
              "pH                      0\n",
              "sulphates               0\n",
              "alcohol                 0\n",
              "quality                 0\n",
              "dtype: int64"
            ]
          },
          "metadata":{
            
          },
          "output_type":"display_data"
        }
      ],
      "metadata":{
        
      }
    },
    {
      "cell_type":"markdown",
      "source":[
        "## DATA VISULIZATION\n",
        "\n"
      ],
      "metadata":{
        
      }
    },
    {
      "cell_type":"code",
      "source":[
        "fig = px.histogram(wine_data, x='fixed acidity', template=\"presentation\", title=\"Fixed Acidity in Wine\", width=700, height=450)\n",
        "fig.show()"
      ],
      "execution_count":7,
      "outputs":[
        {
          "data":{
            "text\/plain":[
              "Unsupported"
            ]
          },
          "metadata":{
            
          },
          "output_type":"display_data"
        }
      ],
      "metadata":{
        
      }
    },
    {
      "cell_type":"code",
      "source":[
        "fig = px.histogram(wine_data, x='volatile acidity', template=\"presentation\", title=\"volatile acidity in Wine\", width=700, height=450)\n",
        "fig.show()"
      ],
      "execution_count":8,
      "outputs":[
        {
          "data":{
            "text\/plain":[
              "Unsupported"
            ]
          },
          "metadata":{
            
          },
          "output_type":"display_data"
        }
      ],
      "metadata":{
        
      }
    },
    {
      "cell_type":"code",
      "source":[
        "fig = px.histogram(wine_data, x='citric acid', template=\"presentation\", title=\"citric acid in Wine\", width=700, height=450)\n",
        "fig.show()"
      ],
      "execution_count":9,
      "outputs":[
        {
          "data":{
            "text\/plain":[
              "Unsupported"
            ]
          },
          "metadata":{
            
          },
          "output_type":"display_data"
        }
      ],
      "metadata":{
        
      }
    },
    {
      "cell_type":"code",
      "source":[
        "fig = px.histogram(wine_data, x='residual sugar', template=\"presentation\", title=\"residual sugar in Wine\", width=700, height=450)\n",
        "fig.show()"
      ],
      "execution_count":10,
      "outputs":[
        {
          "data":{
            "text\/plain":[
              "Unsupported"
            ]
          },
          "metadata":{
            
          },
          "output_type":"display_data"
        }
      ],
      "metadata":{
        
      }
    },
    {
      "cell_type":"code",
      "source":[
        "fig = px.histogram(wine_data, x='chlorides', template=\"presentation\", title=\"chlorides in Wine\", width=700, height=450)\n",
        "fig.show()"
      ],
      "execution_count":11,
      "outputs":[
        {
          "data":{
            "text\/plain":[
              "Unsupported"
            ]
          },
          "metadata":{
            
          },
          "output_type":"display_data"
        }
      ],
      "metadata":{
        
      }
    },
    {
      "cell_type":"code",
      "source":[
        "fig = px.histogram(wine_data, x='free sulfur dioxide', template=\"presentation\", title=\"free sulfur dioxide in Wine\", width=700, height=450)\n",
        "fig.show()"
      ],
      "execution_count":12,
      "outputs":[
        {
          "data":{
            "text\/plain":[
              "Unsupported"
            ]
          },
          "metadata":{
            
          },
          "output_type":"display_data"
        }
      ],
      "metadata":{
        
      }
    },
    {
      "cell_type":"code",
      "source":[
        "fig = px.histogram(wine_data, x='total sulfur dioxide', template=\"presentation\", title=\"total sulfur dioxide in Wine\", width=700, height=450)\n",
        "fig.show()"
      ],
      "execution_count":13,
      "outputs":[
        {
          "data":{
            "text\/plain":[
              "Unsupported"
            ]
          },
          "metadata":{
            
          },
          "output_type":"display_data"
        }
      ],
      "metadata":{
        
      }
    },
    {
      "cell_type":"code",
      "source":[
        "fig = px.histogram(wine_data, x='density', template=\"presentation\", title=\"density in Wine\", width=700, height=450)\n",
        "fig.show()"
      ],
      "execution_count":14,
      "outputs":[
        {
          "data":{
            "text\/plain":[
              "Unsupported"
            ]
          },
          "metadata":{
            
          },
          "output_type":"display_data"
        }
      ],
      "metadata":{
        
      }
    },
    {
      "cell_type":"code",
      "source":[
        "fig = px.histogram(wine_data, x='pH', template=\"presentation\", title=\"pH in Wine\", width=700, height=450)\n",
        "fig.show()"
      ],
      "execution_count":15,
      "outputs":[
        {
          "data":{
            "text\/plain":[
              "Unsupported"
            ]
          },
          "metadata":{
            
          },
          "output_type":"display_data"
        }
      ],
      "metadata":{
        
      }
    },
    {
      "cell_type":"code",
      "source":[
        "fig = px.histogram(wine_data, x='sulphates', template=\"presentation\", title=\"sulphates in Wine\", width=700, height=450)\n",
        "fig.show()"
      ],
      "execution_count":16,
      "outputs":[
        {
          "data":{
            "text\/plain":[
              "Unsupported"
            ]
          },
          "metadata":{
            
          },
          "output_type":"display_data"
        }
      ],
      "metadata":{
        
      }
    },
    {
      "cell_type":"code",
      "source":[
        "fig = px.histogram(wine_data, x='alcohol', template=\"presentation\", title=\"alcohol in Wine\", width=700, height=450)\n",
        "fig.show()"
      ],
      "execution_count":17,
      "outputs":[
        {
          "data":{
            "text\/plain":[
              "Unsupported"
            ]
          },
          "metadata":{
            
          },
          "output_type":"display_data"
        }
      ],
      "metadata":{
        
      }
    },
    {
      "cell_type":"code",
      "source":[
        "fig = px.histogram(wine_data, x='quality', template=\"presentation\", title=\"quality of the Wine\", width=700, height=450)\n",
        "fig.show()"
      ],
      "execution_count":18,
      "outputs":[
        {
          "data":{
            "text\/plain":[
              "Unsupported"
            ]
          },
          "metadata":{
            
          },
          "output_type":"display_data"
        }
      ],
      "metadata":{
        
      }
    },
    {
      "cell_type":"code",
      "source":[
        "corr = wine_data.corr()\n",
        "corr"
      ],
      "execution_count":19,
      "outputs":[
        {
          "data":{
            "text\/html":[
              "<div>\n",
              "<style scoped>\n",
              "    .dataframe tbody tr th:only-of-type {\n",
              "        vertical-align: middle;\n",
              "    }\n",
              "\n",
              "    .dataframe tbody tr th {\n",
              "        vertical-align: top;\n",
              "    }\n",
              "\n",
              "    .dataframe thead th {\n",
              "        text-align: right;\n",
              "    }\n",
              "<\/style>\n",
              "<table border=\"1\" class=\"dataframe\">\n",
              "  <thead>\n",
              "    <tr style=\"text-align: right;\">\n",
              "      <th><\/th>\n",
              "      <th>fixed acidity<\/th>\n",
              "      <th>volatile acidity<\/th>\n",
              "      <th>citric acid<\/th>\n",
              "      <th>residual sugar<\/th>\n",
              "      <th>chlorides<\/th>\n",
              "      <th>free sulfur dioxide<\/th>\n",
              "      <th>total sulfur dioxide<\/th>\n",
              "      <th>density<\/th>\n",
              "      <th>pH<\/th>\n",
              "      <th>sulphates<\/th>\n",
              "      <th>alcohol<\/th>\n",
              "      <th>quality<\/th>\n",
              "    <\/tr>\n",
              "  <\/thead>\n",
              "  <tbody>\n",
              "    <tr>\n",
              "      <th>fixed acidity<\/th>\n",
              "      <td>1.000000<\/td>\n",
              "      <td>-0.256131<\/td>\n",
              "      <td>0.671703<\/td>\n",
              "      <td>0.114777<\/td>\n",
              "      <td>0.093705<\/td>\n",
              "      <td>-0.153794<\/td>\n",
              "      <td>-0.113181<\/td>\n",
              "      <td>0.668047<\/td>\n",
              "      <td>-0.682978<\/td>\n",
              "      <td>0.183006<\/td>\n",
              "      <td>-0.061668<\/td>\n",
              "      <td>0.124052<\/td>\n",
              "    <\/tr>\n",
              "    <tr>\n",
              "      <th>volatile acidity<\/th>\n",
              "      <td>-0.256131<\/td>\n",
              "      <td>1.000000<\/td>\n",
              "      <td>-0.552496<\/td>\n",
              "      <td>0.001918<\/td>\n",
              "      <td>0.061298<\/td>\n",
              "      <td>-0.010504<\/td>\n",
              "      <td>0.076470<\/td>\n",
              "      <td>0.022026<\/td>\n",
              "      <td>0.234937<\/td>\n",
              "      <td>-0.260987<\/td>\n",
              "      <td>-0.202288<\/td>\n",
              "      <td>-0.390558<\/td>\n",
              "    <\/tr>\n",
              "    <tr>\n",
              "      <th>citric acid<\/th>\n",
              "      <td>0.671703<\/td>\n",
              "      <td>-0.552496<\/td>\n",
              "      <td>1.000000<\/td>\n",
              "      <td>0.143577<\/td>\n",
              "      <td>0.203823<\/td>\n",
              "      <td>-0.060978<\/td>\n",
              "      <td>0.035533<\/td>\n",
              "      <td>0.364947<\/td>\n",
              "      <td>-0.541904<\/td>\n",
              "      <td>0.312770<\/td>\n",
              "      <td>0.109903<\/td>\n",
              "      <td>0.226373<\/td>\n",
              "    <\/tr>\n",
              "    <tr>\n",
              "      <th>residual sugar<\/th>\n",
              "      <td>0.114777<\/td>\n",
              "      <td>0.001918<\/td>\n",
              "      <td>0.143577<\/td>\n",
              "      <td>1.000000<\/td>\n",
              "      <td>0.055610<\/td>\n",
              "      <td>0.187049<\/td>\n",
              "      <td>0.203028<\/td>\n",
              "      <td>0.355283<\/td>\n",
              "      <td>-0.085652<\/td>\n",
              "      <td>0.005527<\/td>\n",
              "      <td>0.042075<\/td>\n",
              "      <td>0.013732<\/td>\n",
              "    <\/tr>\n",
              "    <tr>\n",
              "      <th>chlorides<\/th>\n",
              "      <td>0.093705<\/td>\n",
              "      <td>0.061298<\/td>\n",
              "      <td>0.203823<\/td>\n",
              "      <td>0.055610<\/td>\n",
              "      <td>1.000000<\/td>\n",
              "      <td>0.005562<\/td>\n",
              "      <td>0.047400<\/td>\n",
              "      <td>0.200632<\/td>\n",
              "      <td>-0.265026<\/td>\n",
              "      <td>0.371260<\/td>\n",
              "      <td>-0.221141<\/td>\n",
              "      <td>-0.128907<\/td>\n",
              "    <\/tr>\n",
              "    <tr>\n",
              "      <th>free sulfur dioxide<\/th>\n",
              "      <td>-0.153794<\/td>\n",
              "      <td>-0.010504<\/td>\n",
              "      <td>-0.060978<\/td>\n",
              "      <td>0.187049<\/td>\n",
              "      <td>0.005562<\/td>\n",
              "      <td>1.000000<\/td>\n",
              "      <td>0.667666<\/td>\n",
              "      <td>-0.021946<\/td>\n",
              "      <td>0.070377<\/td>\n",
              "      <td>0.051658<\/td>\n",
              "      <td>-0.069408<\/td>\n",
              "      <td>-0.050656<\/td>\n",
              "    <\/tr>\n",
              "    <tr>\n",
              "      <th>total sulfur dioxide<\/th>\n",
              "      <td>-0.113181<\/td>\n",
              "      <td>0.076470<\/td>\n",
              "      <td>0.035533<\/td>\n",
              "      <td>0.203028<\/td>\n",
              "      <td>0.047400<\/td>\n",
              "      <td>0.667666<\/td>\n",
              "      <td>1.000000<\/td>\n",
              "      <td>0.071269<\/td>\n",
              "      <td>-0.066495<\/td>\n",
              "      <td>0.042947<\/td>\n",
              "      <td>-0.205654<\/td>\n",
              "      <td>-0.185100<\/td>\n",
              "    <\/tr>\n",
              "    <tr>\n",
              "      <th>density<\/th>\n",
              "      <td>0.668047<\/td>\n",
              "      <td>0.022026<\/td>\n",
              "      <td>0.364947<\/td>\n",
              "      <td>0.355283<\/td>\n",
              "      <td>0.200632<\/td>\n",
              "      <td>-0.021946<\/td>\n",
              "      <td>0.071269<\/td>\n",
              "      <td>1.000000<\/td>\n",
              "      <td>-0.341699<\/td>\n",
              "      <td>0.148506<\/td>\n",
              "      <td>-0.496180<\/td>\n",
              "      <td>-0.174919<\/td>\n",
              "    <\/tr>\n",
              "    <tr>\n",
              "      <th>pH<\/th>\n",
              "      <td>-0.682978<\/td>\n",
              "      <td>0.234937<\/td>\n",
              "      <td>-0.541904<\/td>\n",
              "      <td>-0.085652<\/td>\n",
              "      <td>-0.265026<\/td>\n",
              "      <td>0.070377<\/td>\n",
              "      <td>-0.066495<\/td>\n",
              "      <td>-0.341699<\/td>\n",
              "      <td>1.000000<\/td>\n",
              "      <td>-0.196648<\/td>\n",
              "      <td>0.205633<\/td>\n",
              "      <td>-0.057731<\/td>\n",
              "    <\/tr>\n",
              "    <tr>\n",
              "      <th>sulphates<\/th>\n",
              "      <td>0.183006<\/td>\n",
              "      <td>-0.260987<\/td>\n",
              "      <td>0.312770<\/td>\n",
              "      <td>0.005527<\/td>\n",
              "      <td>0.371260<\/td>\n",
              "      <td>0.051658<\/td>\n",
              "      <td>0.042947<\/td>\n",
              "      <td>0.148506<\/td>\n",
              "      <td>-0.196648<\/td>\n",
              "      <td>1.000000<\/td>\n",
              "      <td>0.093595<\/td>\n",
              "      <td>0.251397<\/td>\n",
              "    <\/tr>\n",
              "    <tr>\n",
              "      <th>alcohol<\/th>\n",
              "      <td>-0.061668<\/td>\n",
              "      <td>-0.202288<\/td>\n",
              "      <td>0.109903<\/td>\n",
              "      <td>0.042075<\/td>\n",
              "      <td>-0.221141<\/td>\n",
              "      <td>-0.069408<\/td>\n",
              "      <td>-0.205654<\/td>\n",
              "      <td>-0.496180<\/td>\n",
              "      <td>0.205633<\/td>\n",
              "      <td>0.093595<\/td>\n",
              "      <td>1.000000<\/td>\n",
              "      <td>0.476166<\/td>\n",
              "    <\/tr>\n",
              "    <tr>\n",
              "      <th>quality<\/th>\n",
              "      <td>0.124052<\/td>\n",
              "      <td>-0.390558<\/td>\n",
              "      <td>0.226373<\/td>\n",
              "      <td>0.013732<\/td>\n",
              "      <td>-0.128907<\/td>\n",
              "      <td>-0.050656<\/td>\n",
              "      <td>-0.185100<\/td>\n",
              "      <td>-0.174919<\/td>\n",
              "      <td>-0.057731<\/td>\n",
              "      <td>0.251397<\/td>\n",
              "      <td>0.476166<\/td>\n",
              "      <td>1.000000<\/td>\n",
              "    <\/tr>\n",
              "  <\/tbody>\n",
              "<\/table>\n",
              "<\/div>"
            ]
          },
          "metadata":{
            
          },
          "output_type":"display_data"
        }
      ],
      "metadata":{
        
      }
    },
    {
      "cell_type":"code",
      "source":[
        "plt.figure(figsize=(17,7))\n",
        "sns.heatmap(corr, annot=True);"
      ],
      "execution_count":20,
      "outputs":[
        {
          "data":{
            "image\/png":"[encoded data removed]"
          },
          "metadata":{
            "image\/png":{
              "width":0,
              "height":0
            }
          },
          "output_type":"display_data"
        }
      ],
      "metadata":{
        
      }
    },
    {
      "cell_type":"markdown",
      "source":[
        "## START BUILDING THE MACHINE LAERNING MODEL"
      ],
      "metadata":{
        
      }
    },
    {
      "cell_type":"code",
      "source":[
        "bins = (2,5.6,8)\n",
        "labels = ['Good', 'Bad']\n",
        "\n",
        "wine_data[\"quality\"] = pd.cut(x = wine_data[\"quality\"], bins= bins, labels=labels)"
      ],
      "execution_count":21,
      "outputs":[
        
      ],
      "metadata":{
        
      }
    },
    {
      "cell_type":"code",
      "source":[
        "plt.figure(figsize=(20,1))\n",
        "sns.countplot(y=\"quality\", data=wine_data)\n",
        "print(wine_data[\"quality\"].value_counts())"
      ],
      "execution_count":22,
      "outputs":[
        {
          "name":"stdout",
          "text":[
            "Bad     855\n",
            "Good    744\n",
            "Name: quality, dtype: int64\n"
          ],
          "output_type":"stream"
        },
        {
          "data":{
            "image\/png":"[encoded data removed]"
          },
          "metadata":{
            "image\/png":{
              "width":0,
              "height":0
            }
          },
          "output_type":"display_data"
        }
      ],
      "metadata":{
        
      }
    },
    {
      "cell_type":"code",
      "source":[
        "#change good = 1.0 and bad = 0.0 with label encoder\n",
        "labelencoder_y = LabelEncoder()\n",
        "wine_data[\"quality\"] = labelencoder_y.fit_transform(wine_data[\"quality\"])"
      ],
      "execution_count":23,
      "outputs":[
        
      ],
      "metadata":{
        
      }
    },
    {
      "cell_type":"code",
      "source":[
        "wine_data.head()"
      ],
      "execution_count":24,
      "outputs":[
        {
          "data":{
            "text\/html":[
              "<div>\n",
              "<style scoped>\n",
              "    .dataframe tbody tr th:only-of-type {\n",
              "        vertical-align: middle;\n",
              "    }\n",
              "\n",
              "    .dataframe tbody tr th {\n",
              "        vertical-align: top;\n",
              "    }\n",
              "\n",
              "    .dataframe thead th {\n",
              "        text-align: right;\n",
              "    }\n",
              "<\/style>\n",
              "<table border=\"1\" class=\"dataframe\">\n",
              "  <thead>\n",
              "    <tr style=\"text-align: right;\">\n",
              "      <th><\/th>\n",
              "      <th>fixed acidity<\/th>\n",
              "      <th>volatile acidity<\/th>\n",
              "      <th>citric acid<\/th>\n",
              "      <th>residual sugar<\/th>\n",
              "      <th>chlorides<\/th>\n",
              "      <th>free sulfur dioxide<\/th>\n",
              "      <th>total sulfur dioxide<\/th>\n",
              "      <th>density<\/th>\n",
              "      <th>pH<\/th>\n",
              "      <th>sulphates<\/th>\n",
              "      <th>alcohol<\/th>\n",
              "      <th>quality<\/th>\n",
              "    <\/tr>\n",
              "  <\/thead>\n",
              "  <tbody>\n",
              "    <tr>\n",
              "      <th>0<\/th>\n",
              "      <td>7.4<\/td>\n",
              "      <td>0.70<\/td>\n",
              "      <td>0.00<\/td>\n",
              "      <td>1.9<\/td>\n",
              "      <td>0.076<\/td>\n",
              "      <td>11.0<\/td>\n",
              "      <td>34.0<\/td>\n",
              "      <td>0.9978<\/td>\n",
              "      <td>3.51<\/td>\n",
              "      <td>0.56<\/td>\n",
              "      <td>9.4<\/td>\n",
              "      <td>1<\/td>\n",
              "    <\/tr>\n",
              "    <tr>\n",
              "      <th>1<\/th>\n",
              "      <td>7.8<\/td>\n",
              "      <td>0.88<\/td>\n",
              "      <td>0.00<\/td>\n",
              "      <td>2.6<\/td>\n",
              "      <td>0.098<\/td>\n",
              "      <td>25.0<\/td>\n",
              "      <td>67.0<\/td>\n",
              "      <td>0.9968<\/td>\n",
              "      <td>3.20<\/td>\n",
              "      <td>0.68<\/td>\n",
              "      <td>9.8<\/td>\n",
              "      <td>1<\/td>\n",
              "    <\/tr>\n",
              "    <tr>\n",
              "      <th>2<\/th>\n",
              "      <td>7.8<\/td>\n",
              "      <td>0.76<\/td>\n",
              "      <td>0.04<\/td>\n",
              "      <td>2.3<\/td>\n",
              "      <td>0.092<\/td>\n",
              "      <td>15.0<\/td>\n",
              "      <td>54.0<\/td>\n",
              "      <td>0.9970<\/td>\n",
              "      <td>3.26<\/td>\n",
              "      <td>0.65<\/td>\n",
              "      <td>9.8<\/td>\n",
              "      <td>1<\/td>\n",
              "    <\/tr>\n",
              "    <tr>\n",
              "      <th>3<\/th>\n",
              "      <td>11.2<\/td>\n",
              "      <td>0.28<\/td>\n",
              "      <td>0.56<\/td>\n",
              "      <td>1.9<\/td>\n",
              "      <td>0.075<\/td>\n",
              "      <td>17.0<\/td>\n",
              "      <td>60.0<\/td>\n",
              "      <td>0.9980<\/td>\n",
              "      <td>3.16<\/td>\n",
              "      <td>0.58<\/td>\n",
              "      <td>9.8<\/td>\n",
              "      <td>0<\/td>\n",
              "    <\/tr>\n",
              "    <tr>\n",
              "      <th>4<\/th>\n",
              "      <td>7.4<\/td>\n",
              "      <td>0.70<\/td>\n",
              "      <td>0.00<\/td>\n",
              "      <td>1.9<\/td>\n",
              "      <td>0.076<\/td>\n",
              "      <td>11.0<\/td>\n",
              "      <td>34.0<\/td>\n",
              "      <td>0.9978<\/td>\n",
              "      <td>3.51<\/td>\n",
              "      <td>0.56<\/td>\n",
              "      <td>9.4<\/td>\n",
              "      <td>1<\/td>\n",
              "    <\/tr>\n",
              "  <\/tbody>\n",
              "<\/table>\n",
              "<\/div>"
            ]
          },
          "metadata":{
            
          },
          "output_type":"display_data"
        }
      ],
      "metadata":{
        
      }
    },
    {
      "cell_type":"code",
      "source":[
        "x = wine_data.drop('quality', axis =1)\n",
        "y = wine_data['quality']"
      ],
      "execution_count":25,
      "outputs":[
        
      ],
      "metadata":{
        
      }
    },
    {
      "cell_type":"code",
      "source":[
        "x.head()"
      ],
      "execution_count":26,
      "outputs":[
        {
          "data":{
            "text\/html":[
              "<div>\n",
              "<style scoped>\n",
              "    .dataframe tbody tr th:only-of-type {\n",
              "        vertical-align: middle;\n",
              "    }\n",
              "\n",
              "    .dataframe tbody tr th {\n",
              "        vertical-align: top;\n",
              "    }\n",
              "\n",
              "    .dataframe thead th {\n",
              "        text-align: right;\n",
              "    }\n",
              "<\/style>\n",
              "<table border=\"1\" class=\"dataframe\">\n",
              "  <thead>\n",
              "    <tr style=\"text-align: right;\">\n",
              "      <th><\/th>\n",
              "      <th>fixed acidity<\/th>\n",
              "      <th>volatile acidity<\/th>\n",
              "      <th>citric acid<\/th>\n",
              "      <th>residual sugar<\/th>\n",
              "      <th>chlorides<\/th>\n",
              "      <th>free sulfur dioxide<\/th>\n",
              "      <th>total sulfur dioxide<\/th>\n",
              "      <th>density<\/th>\n",
              "      <th>pH<\/th>\n",
              "      <th>sulphates<\/th>\n",
              "      <th>alcohol<\/th>\n",
              "    <\/tr>\n",
              "  <\/thead>\n",
              "  <tbody>\n",
              "    <tr>\n",
              "      <th>0<\/th>\n",
              "      <td>7.4<\/td>\n",
              "      <td>0.70<\/td>\n",
              "      <td>0.00<\/td>\n",
              "      <td>1.9<\/td>\n",
              "      <td>0.076<\/td>\n",
              "      <td>11.0<\/td>\n",
              "      <td>34.0<\/td>\n",
              "      <td>0.9978<\/td>\n",
              "      <td>3.51<\/td>\n",
              "      <td>0.56<\/td>\n",
              "      <td>9.4<\/td>\n",
              "    <\/tr>\n",
              "    <tr>\n",
              "      <th>1<\/th>\n",
              "      <td>7.8<\/td>\n",
              "      <td>0.88<\/td>\n",
              "      <td>0.00<\/td>\n",
              "      <td>2.6<\/td>\n",
              "      <td>0.098<\/td>\n",
              "      <td>25.0<\/td>\n",
              "      <td>67.0<\/td>\n",
              "      <td>0.9968<\/td>\n",
              "      <td>3.20<\/td>\n",
              "      <td>0.68<\/td>\n",
              "      <td>9.8<\/td>\n",
              "    <\/tr>\n",
              "    <tr>\n",
              "      <th>2<\/th>\n",
              "      <td>7.8<\/td>\n",
              "      <td>0.76<\/td>\n",
              "      <td>0.04<\/td>\n",
              "      <td>2.3<\/td>\n",
              "      <td>0.092<\/td>\n",
              "      <td>15.0<\/td>\n",
              "      <td>54.0<\/td>\n",
              "      <td>0.9970<\/td>\n",
              "      <td>3.26<\/td>\n",
              "      <td>0.65<\/td>\n",
              "      <td>9.8<\/td>\n",
              "    <\/tr>\n",
              "    <tr>\n",
              "      <th>3<\/th>\n",
              "      <td>11.2<\/td>\n",
              "      <td>0.28<\/td>\n",
              "      <td>0.56<\/td>\n",
              "      <td>1.9<\/td>\n",
              "      <td>0.075<\/td>\n",
              "      <td>17.0<\/td>\n",
              "      <td>60.0<\/td>\n",
              "      <td>0.9980<\/td>\n",
              "      <td>3.16<\/td>\n",
              "      <td>0.58<\/td>\n",
              "      <td>9.8<\/td>\n",
              "    <\/tr>\n",
              "    <tr>\n",
              "      <th>4<\/th>\n",
              "      <td>7.4<\/td>\n",
              "      <td>0.70<\/td>\n",
              "      <td>0.00<\/td>\n",
              "      <td>1.9<\/td>\n",
              "      <td>0.076<\/td>\n",
              "      <td>11.0<\/td>\n",
              "      <td>34.0<\/td>\n",
              "      <td>0.9978<\/td>\n",
              "      <td>3.51<\/td>\n",
              "      <td>0.56<\/td>\n",
              "      <td>9.4<\/td>\n",
              "    <\/tr>\n",
              "  <\/tbody>\n",
              "<\/table>\n",
              "<\/div>"
            ]
          },
          "metadata":{
            
          },
          "output_type":"display_data"
        }
      ],
      "metadata":{
        
      }
    },
    {
      "cell_type":"code",
      "source":[
        "y.head()"
      ],
      "execution_count":27,
      "outputs":[
        {
          "data":{
            "text\/plain":[
              "0    1\n",
              "1    1\n",
              "2    1\n",
              "3    0\n",
              "4    1\n",
              "Name: quality, dtype: int64"
            ]
          },
          "metadata":{
            
          },
          "output_type":"display_data"
        }
      ],
      "metadata":{
        
      }
    },
    {
      "cell_type":"markdown",
      "source":[
        "## Split Data"
      ],
      "metadata":{
        
      }
    },
    {
      "cell_type":"code",
      "source":[
        "X_train, X_test, y_train, y_test = train_test_split(x,y, test_size=0.3, random_state=42)"
      ],
      "execution_count":28,
      "outputs":[
        
      ],
      "metadata":{
        
      }
    },
    {
      "cell_type":"code",
      "source":[
        "print(' X_train  = ', X_train.shape,'\\n',\n",
        "      'X_test   = ', X_test.shape,'\\n',\n",
        "      'y_train  = ', y_train.shape,'\\n',\n",
        "      'y_test   = ', y_test.shape)"
      ],
      "execution_count":29,
      "outputs":[
        {
          "name":"stdout",
          "text":[
            " X_train  =  (1119, 11) \n",
            " X_test   =  (480, 11) \n",
            " y_train  =  (1119,) \n",
            " y_test   =  (480,)\n"
          ],
          "output_type":"stream"
        }
      ],
      "metadata":{
        
      }
    },
    {
      "cell_type":"markdown",
      "source":[
        "# Define a function to fit machine learning algorithms"
      ],
      "metadata":{
        
      }
    },
    {
      "cell_type":"code",
      "source":[
        "# Function that runs the requested algorithm and returns the accuracy metrics\n",
        "def fit_ml_algo(algo, X_train, y_train, cv):\n",
        "    \n",
        "    # One Pass\n",
        "    model = algo.fit(X_train, y_train)\n",
        "    acc = round(model.score(X_train, y_train) * 100, 2)\n",
        "    \n",
        "    # Cross Validation \n",
        "    train_pred = model_selection.cross_val_predict(algo, \n",
        "                                                  X_train, \n",
        "                                                  y_train, \n",
        "                                                  cv=cv, \n",
        "                                                  n_jobs = -1)\n",
        "    # Cross-validation accuracy metric\n",
        "    acc_cv = round(metrics.accuracy_score(y_train, train_pred) * 100, 2)\n",
        "\n",
        "    #Confusion matrix \n",
        "\n",
        "    \n",
        "    return train_pred, acc, acc_cv, model"
      ],
      "execution_count":30,
      "outputs":[
        
      ],
      "metadata":{
        
      }
    },
    {
      "cell_type":"markdown",
      "source":[
        "## Define a function to measure the accuracy of the model"
      ],
      "metadata":{
        
      }
    },
    {
      "cell_type":"code",
      "source":[
        "def model_score(model, X_train, y_train,cv):\n",
        "    #cross validation\n",
        "    y_train_pred =  model_selection.cross_val_predict(model, X_train, y_train, cv=cv, n_jobs=-1)\n",
        "\n",
        "    #precision \n",
        "    pre_scr = precision_score(y_train, y_train_pred)\n",
        "\n",
        "    #re-call\n",
        "    re_scr = recall_score(y_train, y_train_pred)\n",
        "\n",
        "    #F1- Score \n",
        "    f_score = f1_score(y_train, y_train_pred)\n",
        "\n",
        "\n",
        "\n",
        "    #Auc Score\n",
        "    y_score_r =  model_selection.cross_val_predict(model, X_train, y_train)\n",
        "\n",
        "\n",
        "    a_score = roc_auc_score(y_train, y_score_r)\n",
        "\n",
        "    return pre_scr, re_scr, f_score, a_score"
      ],
      "execution_count":31,
      "outputs":[
        
      ],
      "metadata":{
        
      }
    },
    {
      "cell_type":"markdown",
      "source":[
        "## Graph"
      ],
      "metadata":{
        
      }
    },
    {
      "cell_type":"code",
      "source":[
        "from sklearn.metrics import roc_curve, auc, precision_recall_curve\n",
        "def roc_plot(y_score,y_test):\n",
        "  fpr, tpr, thresholds = roc_curve(y_test, y_score)\n",
        "\n",
        "  fig = px.area(\n",
        "      x=fpr, y=tpr,\n",
        "      title=f'ROC Curve (AUC={auc(fpr, tpr):.4f})',\n",
        "      labels=dict(x='False Positive Rate', y='True Positive Rate'),\n",
        "      width=700, height=500\n",
        "  )\n",
        "  fig.add_shape(\n",
        "      type='line', line=dict(dash='dash'),\n",
        "      x0=0, x1=1, y0=0, y1=1\n",
        "  )\n",
        "\n",
        "  fig.update_yaxes(scaleanchor=\"x\", scaleratio=1)\n",
        "  fig.update_xaxes(constrain='domain')\n",
        "  fig.show()\n",
        "\n",
        "  precision, recall, thresholds = precision_recall_curve(y_test, y_score)\n",
        "\n",
        "  fig = px.area(\n",
        "      x=recall, y=precision,\n",
        "      title=f'Precision-Recall Curve (AUC={auc(fpr, tpr):.4f})',\n",
        "      labels=dict(x='Recall', y='Precision'),\n",
        "      width=700, height=500\n",
        "  )\n",
        "  fig.add_shape(\n",
        "      type='line', line=dict(dash='dash'),\n",
        "      x0=0, x1=1, y0=1, y1=0\n",
        "  )\n",
        "  fig.update_yaxes(scaleanchor=\"x\", scaleratio=1)\n",
        "  fig.update_xaxes(constrain='domain')\n",
        "  fig.show()\n",
        "  return"
      ],
      "execution_count":32,
      "outputs":[
        
      ],
      "metadata":{
        
      }
    },
    {
      "cell_type":"markdown",
      "source":[
        "# Logistic Regression"
      ],
      "metadata":{
        
      }
    },
    {
      "cell_type":"code",
      "source":[
        "# Logistic Regression\n",
        "start_time = time.time()\n",
        "train_pred_log, acc_log, acc_cv_log,model_log= fit_ml_algo(LogisticRegression(), \n",
        "                                                               X_train, \n",
        "                                                               y_train, \n",
        "                                                                    10)\n",
        "log_time = (time.time() - start_time)\n",
        "print(\"Accuracy: %s\" % acc_log)\n",
        "print(\"Accuracy CV 10-Fold: %s\" % acc_cv_log)\n",
        "print(\"Running Time: %s\" % datetime.timedelta(seconds=log_time))"
      ],
      "execution_count":33,
      "outputs":[
        {
          "name":"stdout",
          "text":[
            "Accuracy: 75.25\n",
            "Accuracy CV 10-Fold: 74.89\n",
            "Running Time: 0:00:02.031333\n"
          ],
          "output_type":"stream"
        }
      ],
      "metadata":{
        
      }
    },
    {
      "cell_type":"code",
      "source":[
        "y_score = model_log.predict_proba(X_test)\n",
        "y_score = y_score[:,1]\n",
        "roc_plot(y_score, y_test)"
      ],
      "execution_count":34,
      "outputs":[
        {
          "data":{
            "text\/plain":[
              "Unsupported"
            ]
          },
          "metadata":{
            
          },
          "output_type":"display_data"
        }
      ],
      "metadata":{
        
      }
    },
    {
      "cell_type":"markdown",
      "source":[
        "## KNN Classifier"
      ],
      "metadata":{
        
      }
    },
    {
      "cell_type":"code",
      "source":[
        "# Logistic Regression\n",
        "start_time = time.time()\n",
        "train_pred_knn, acc_knn, acc_cv_knn, model_knn = fit_ml_algo(KNeighborsClassifier(n_neighbors=5, weights='distance'), \n",
        "                                                               X_train, \n",
        "                                                               y_train, \n",
        "                                                                    10)\n",
        "log_time = (time.time() - start_time)\n",
        "print(\"Accuracy: %s\" % acc_knn)\n",
        "print(\"Accuracy CV 10-Fold: %s\" % acc_cv_knn)\n",
        "print(\"Running Time: %s\" % datetime.timedelta(seconds=log_time))"
      ],
      "execution_count":35,
      "outputs":[
        {
          "name":"stdout",
          "text":[
            "Accuracy: 100.0\n",
            "Accuracy CV 10-Fold: 69.88\n",
            "Running Time: 0:00:00.123012\n"
          ],
          "output_type":"stream"
        }
      ],
      "metadata":{
        
      }
    },
    {
      "cell_type":"code",
      "source":[
        "y_score = model_knn.predict_proba(X_test)\n",
        "y_score = y_score[:,1]\n",
        "roc_plot(y_score, y_test)"
      ],
      "execution_count":36,
      "outputs":[
        {
          "data":{
            "text\/plain":[
              "Unsupported"
            ]
          },
          "metadata":{
            
          },
          "output_type":"display_data"
        }
      ],
      "metadata":{
        
      }
    },
    {
      "cell_type":"markdown",
      "source":[
        "## Gaussian Naive Bayes"
      ],
      "metadata":{
        
      }
    },
    {
      "cell_type":"code",
      "source":[
        "start_time = time.time()\n",
        "train_pred_gaussian, acc_gaussian, acc_cv_gaussian, model_gb = fit_ml_algo(GaussianNB(), \n",
        "                                                                      X_train, \n",
        "                                                                      y_train, \n",
        "                                                                           10)\n",
        "gaussian_time = (time.time() - start_time)\n",
        "print(\"Accuracy: %s\" % acc_gaussian)\n",
        "print(\"Accuracy CV 10-Fold: %s\" % acc_cv_gaussian)\n",
        "print(\"Running Time: %s\" % datetime.timedelta(seconds=gaussian_time))"
      ],
      "execution_count":37,
      "outputs":[
        {
          "name":"stdout",
          "text":[
            "Accuracy: 73.37\n",
            "Accuracy CV 10-Fold: 73.73\n",
            "Running Time: 0:00:00.086626\n"
          ],
          "output_type":"stream"
        }
      ],
      "metadata":{
        
      }
    },
    {
      "cell_type":"code",
      "source":[
        "y_score = model_gb.predict_proba(X_test)\n",
        "y_score = y_score[:,1]\n",
        "roc_plot(y_score, y_test)"
      ],
      "execution_count":38,
      "outputs":[
        {
          "data":{
            "text\/plain":[
              "Unsupported"
            ]
          },
          "metadata":{
            
          },
          "output_type":"display_data"
        }
      ],
      "metadata":{
        
      }
    },
    {
      "cell_type":"markdown",
      "source":[
        "## Linear Support Vector Machines (SVC)"
      ],
      "metadata":{
        
      }
    },
    {
      "cell_type":"code",
      "source":[
        "start_time = time.time()\n",
        "train_pred_svc, acc_linear_svc, acc_cv_linear_svc, model_svc = fit_ml_algo(SVC(probability=True),\n",
        "                                                                X_train, \n",
        "                                                                y_train, \n",
        "                                                                10)\n",
        "linear_svc_time = (time.time() - start_time)\n",
        "print(\"Accuracy: %s\" % acc_linear_svc)\n",
        "print(\"Accuracy CV 10-Fold: %s\" % acc_cv_linear_svc)\n",
        "print(\"Running Time: %s\" % datetime.timedelta(seconds=linear_svc_time))"
      ],
      "execution_count":39,
      "outputs":[
        {
          "name":"stdout",
          "text":[
            "Accuracy: 63.36\n",
            "Accuracy CV 10-Fold: 62.38\n",
            "Running Time: 0:00:03.200447\n"
          ],
          "output_type":"stream"
        }
      ],
      "metadata":{
        
      }
    },
    {
      "cell_type":"code",
      "source":[
        "y_score = model_svc.predict_proba(X_test)\n",
        "y_score = y_score[:,1]\n",
        "roc_plot(y_score, y_test)"
      ],
      "execution_count":40,
      "outputs":[
        {
          "data":{
            "text\/plain":[
              "Unsupported"
            ]
          },
          "metadata":{
            
          },
          "output_type":"display_data"
        }
      ],
      "metadata":{
        
      }
    },
    {
      "cell_type":"markdown",
      "source":[
        "## Gradient Boost Trees"
      ],
      "metadata":{
        
      }
    },
    {
      "cell_type":"code",
      "source":[
        "start_time = time.time()\n",
        "train_pred_gbt, acc_gbt, acc_cv_gbt,model_gbt = fit_ml_algo(GradientBoostingClassifier(), \n",
        "                                                                       X_train, \n",
        "                                                                       y_train,\n",
        "                                                                       10)\n",
        "gbt_time = (time.time() - start_time)\n",
        "print(\"Accuracy: %s\" % acc_gbt)\n",
        "print(\"Accuracy CV 10-Fold: %s\" % acc_cv_gbt)\n",
        "print(\"Running Time: %s\" % datetime.timedelta(seconds=gbt_time))"
      ],
      "execution_count":41,
      "outputs":[
        {
          "name":"stdout",
          "text":[
            "Accuracy: 87.85\n",
            "Accuracy CV 10-Fold: 77.12\n",
            "Running Time: 0:00:02.157245\n"
          ],
          "output_type":"stream"
        }
      ],
      "metadata":{
        
      }
    },
    {
      "cell_type":"code",
      "source":[
        "y_score = model_gbt.predict_proba(X_test)\n",
        "y_score = y_score[:,1]\n",
        "roc_plot(y_score, y_test)"
      ],
      "execution_count":42,
      "outputs":[
        {
          "data":{
            "text\/plain":[
              "Unsupported"
            ]
          },
          "metadata":{
            
          },
          "output_type":"display_data"
        }
      ],
      "metadata":{
        
      }
    },
    {
      "cell_type":"markdown",
      "source":[
        "## Model Results"
      ],
      "metadata":{
        
      }
    },
    {
      "cell_type":"code",
      "source":[
        "models = pd.DataFrame({\n",
        "    'Model': ['KNN', 'Logistic Regression', 'Naive Bayes', \n",
        "              'Linear SVC', \n",
        "              'Gradient Boosting Trees',\n",
        "              ],\n",
        "    'Score': [\n",
        "        acc_knn, \n",
        "        acc_log,  \n",
        "        acc_gaussian,  \n",
        "        acc_linear_svc, \n",
        "        acc_gbt,\n",
        "    ]})\n",
        "print(\"---Reuglar Accuracy Scores---\")\n",
        "models.sort_values(by='Score', ascending=False)"
      ],
      "execution_count":43,
      "outputs":[
        {
          "name":"stdout",
          "text":[
            "---Reuglar Accuracy Scores---\n"
          ],
          "output_type":"stream"
        },
        {
          "data":{
            "text\/html":[
              "<div>\n",
              "<style scoped>\n",
              "    .dataframe tbody tr th:only-of-type {\n",
              "        vertical-align: middle;\n",
              "    }\n",
              "\n",
              "    .dataframe tbody tr th {\n",
              "        vertical-align: top;\n",
              "    }\n",
              "\n",
              "    .dataframe thead th {\n",
              "        text-align: right;\n",
              "    }\n",
              "<\/style>\n",
              "<table border=\"1\" class=\"dataframe\">\n",
              "  <thead>\n",
              "    <tr style=\"text-align: right;\">\n",
              "      <th><\/th>\n",
              "      <th>Model<\/th>\n",
              "      <th>Score<\/th>\n",
              "    <\/tr>\n",
              "  <\/thead>\n",
              "  <tbody>\n",
              "    <tr>\n",
              "      <th>0<\/th>\n",
              "      <td>KNN<\/td>\n",
              "      <td>100.00<\/td>\n",
              "    <\/tr>\n",
              "    <tr>\n",
              "      <th>4<\/th>\n",
              "      <td>Gradient Boosting Trees<\/td>\n",
              "      <td>87.85<\/td>\n",
              "    <\/tr>\n",
              "    <tr>\n",
              "      <th>1<\/th>\n",
              "      <td>Logistic Regression<\/td>\n",
              "      <td>75.25<\/td>\n",
              "    <\/tr>\n",
              "    <tr>\n",
              "      <th>2<\/th>\n",
              "      <td>Naive Bayes<\/td>\n",
              "      <td>73.37<\/td>\n",
              "    <\/tr>\n",
              "    <tr>\n",
              "      <th>3<\/th>\n",
              "      <td>Linear SVC<\/td>\n",
              "      <td>63.36<\/td>\n",
              "    <\/tr>\n",
              "  <\/tbody>\n",
              "<\/table>\n",
              "<\/div>"
            ]
          },
          "metadata":{
            
          },
          "output_type":"display_data"
        }
      ],
      "metadata":{
        
      }
    },
    {
      "cell_type":"code",
      "source":[
        "cv_models = pd.DataFrame({\n",
        "    'Model': ['KNN', 'Logistic Regression', 'Naive Bayes', \n",
        "               'Linear SVC', 'Gradient Boosting Trees'],\n",
        "    'Score': [\n",
        "        acc_cv_knn, \n",
        "        acc_cv_log,      \n",
        "        acc_cv_gaussian,  \n",
        "        acc_cv_linear_svc, \n",
        "        acc_cv_gbt\n",
        "    ]})\n",
        "print('---Cross-validation Accuracy Scores---')\n",
        "cv_models.sort_values(by='Score', ascending=False)"
      ],
      "execution_count":44,
      "outputs":[
        {
          "name":"stdout",
          "text":[
            "---Cross-validation Accuracy Scores---\n"
          ],
          "output_type":"stream"
        },
        {
          "data":{
            "text\/html":[
              "<div>\n",
              "<style scoped>\n",
              "    .dataframe tbody tr th:only-of-type {\n",
              "        vertical-align: middle;\n",
              "    }\n",
              "\n",
              "    .dataframe tbody tr th {\n",
              "        vertical-align: top;\n",
              "    }\n",
              "\n",
              "    .dataframe thead th {\n",
              "        text-align: right;\n",
              "    }\n",
              "<\/style>\n",
              "<table border=\"1\" class=\"dataframe\">\n",
              "  <thead>\n",
              "    <tr style=\"text-align: right;\">\n",
              "      <th><\/th>\n",
              "      <th>Model<\/th>\n",
              "      <th>Score<\/th>\n",
              "    <\/tr>\n",
              "  <\/thead>\n",
              "  <tbody>\n",
              "    <tr>\n",
              "      <th>4<\/th>\n",
              "      <td>Gradient Boosting Trees<\/td>\n",
              "      <td>77.12<\/td>\n",
              "    <\/tr>\n",
              "    <tr>\n",
              "      <th>1<\/th>\n",
              "      <td>Logistic Regression<\/td>\n",
              "      <td>74.89<\/td>\n",
              "    <\/tr>\n",
              "    <tr>\n",
              "      <th>2<\/th>\n",
              "      <td>Naive Bayes<\/td>\n",
              "      <td>73.73<\/td>\n",
              "    <\/tr>\n",
              "    <tr>\n",
              "      <th>0<\/th>\n",
              "      <td>KNN<\/td>\n",
              "      <td>69.88<\/td>\n",
              "    <\/tr>\n",
              "    <tr>\n",
              "      <th>3<\/th>\n",
              "      <td>Linear SVC<\/td>\n",
              "      <td>62.38<\/td>\n",
              "    <\/tr>\n",
              "  <\/tbody>\n",
              "<\/table>\n",
              "<\/div>"
            ]
          },
          "metadata":{
            
          },
          "output_type":"display_data"
        }
      ],
      "metadata":{
        
      }
    },
    {
      "cell_type":"markdown",
      "source":[
        "## Feature Importance\n"
      ],
      "metadata":{
        
      }
    },
    {
      "cell_type":"code",
      "source":[
        "def feature_importance(model, data):\n",
        "    fea_imp = pd.DataFrame({'imp': model.feature_importances_, 'col': data.columns})\n",
        "    fea_imp = fea_imp.sort_values(['imp', 'col'], ascending=[True, False]).iloc[-30:]\n",
        "    _ = fea_imp.plot(kind='barh', x='col', y='imp', figsize=(20, 10))\n",
        "    return fea_imp"
      ],
      "execution_count":45,
      "outputs":[
        
      ],
      "metadata":{
        
      }
    },
    {
      "cell_type":"code",
      "source":[
        "feature_importance(model_gbt, X_train)"
      ],
      "execution_count":46,
      "outputs":[
        {
          "data":{
            "image\/png":"[encoded data removed]",
            "text\/html":[
              "<div>\n",
              "<style scoped>\n",
              "    .dataframe tbody tr th:only-of-type {\n",
              "        vertical-align: middle;\n",
              "    }\n",
              "\n",
              "    .dataframe tbody tr th {\n",
              "        vertical-align: top;\n",
              "    }\n",
              "\n",
              "    .dataframe thead th {\n",
              "        text-align: right;\n",
              "    }\n",
              "<\/style>\n",
              "<table border=\"1\" class=\"dataframe\">\n",
              "  <thead>\n",
              "    <tr style=\"text-align: right;\">\n",
              "      <th><\/th>\n",
              "      <th>imp<\/th>\n",
              "      <th>col<\/th>\n",
              "    <\/tr>\n",
              "  <\/thead>\n",
              "  <tbody>\n",
              "    <tr>\n",
              "      <th>5<\/th>\n",
              "      <td>0.018079<\/td>\n",
              "      <td>free sulfur dioxide<\/td>\n",
              "    <\/tr>\n",
              "    <tr>\n",
              "      <th>2<\/th>\n",
              "      <td>0.023317<\/td>\n",
              "      <td>citric acid<\/td>\n",
              "    <\/tr>\n",
              "    <tr>\n",
              "      <th>8<\/th>\n",
              "      <td>0.025843<\/td>\n",
              "      <td>pH<\/td>\n",
              "    <\/tr>\n",
              "    <tr>\n",
              "      <th>0<\/th>\n",
              "      <td>0.029187<\/td>\n",
              "      <td>fixed acidity<\/td>\n",
              "    <\/tr>\n",
              "    <tr>\n",
              "      <th>3<\/th>\n",
              "      <td>0.032784<\/td>\n",
              "      <td>residual sugar<\/td>\n",
              "    <\/tr>\n",
              "    <tr>\n",
              "      <th>4<\/th>\n",
              "      <td>0.045875<\/td>\n",
              "      <td>chlorides<\/td>\n",
              "    <\/tr>\n",
              "    <tr>\n",
              "      <th>7<\/th>\n",
              "      <td>0.047289<\/td>\n",
              "      <td>density<\/td>\n",
              "    <\/tr>\n",
              "    <tr>\n",
              "      <th>6<\/th>\n",
              "      <td>0.109262<\/td>\n",
              "      <td>total sulfur dioxide<\/td>\n",
              "    <\/tr>\n",
              "    <tr>\n",
              "      <th>1<\/th>\n",
              "      <td>0.113106<\/td>\n",
              "      <td>volatile acidity<\/td>\n",
              "    <\/tr>\n",
              "    <tr>\n",
              "      <th>9<\/th>\n",
              "      <td>0.157047<\/td>\n",
              "      <td>sulphates<\/td>\n",
              "    <\/tr>\n",
              "    <tr>\n",
              "      <th>10<\/th>\n",
              "      <td>0.398211<\/td>\n",
              "      <td>alcohol<\/td>\n",
              "    <\/tr>\n",
              "  <\/tbody>\n",
              "<\/table>\n",
              "<\/div>"
            ]
          },
          "metadata":{
            "image\/png":{
              "width":0,
              "height":0
            }
          },
          "output_type":"display_data"
        }
      ],
      "metadata":{
        
      }
    }
  ],
  "metadata":{
    
  },
  "nbformat":4,
  "nbformat_minor":0
}